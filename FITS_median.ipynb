{
  "nbformat": 4,
  "nbformat_minor": 0,
  "metadata": {
    "colab": {
      "name": "FITS median.ipynb",
      "provenance": [],
      "collapsed_sections": [],
      "authorship_tag": "ABX9TyMA/8Kp3EGUMwxaOxjow8G1",
      "include_colab_link": true
    },
    "kernelspec": {
      "name": "python3",
      "display_name": "Python 3"
    }
  },
  "cells": [
    {
      "cell_type": "markdown",
      "metadata": {
        "id": "view-in-github",
        "colab_type": "text"
      },
      "source": [
        "<a href=\"https://colab.research.google.com/github/prabhudc/colab-dump/blob/master/FITS_median.ipynb\" target=\"_parent\"><img src=\"https://colab.research.google.com/assets/colab-badge.svg\" alt=\"Open In Colab\"/></a>"
      ]
    },
    {
      "cell_type": "code",
      "metadata": {
        "id": "JsTS33qLJZsx",
        "colab_type": "code",
        "colab": {}
      },
      "source": [
        "import numpy as np\n",
        "from astropy.io import fits"
      ],
      "execution_count": 0,
      "outputs": []
    },
    {
      "cell_type": "code",
      "metadata": {
        "id": "WyPrFdTaIxV_",
        "colab_type": "code",
        "colab": {}
      },
      "source": [
        "#Standard code from Coursera\n",
        "\n",
        "def running_stats(filenames):\n",
        "  '''Calculates the running mean and stdev for a list of FITS files using Welford's method.'''\n",
        "  n = 0\n",
        "  for filename in filenames:\n",
        "    hdulist = fits.open(filename)\n",
        "    data = hdulist[0].data\n",
        "    if n == 0:\n",
        "      mean = np.zeros_like(data)\n",
        "      s = np.zeros_like(data)\n",
        "\n",
        "    n += 1\n",
        "    delta = data - mean\n",
        "    mean += delta/n\n",
        "    s += delta*(data - mean)\n",
        "    hdulist.close()\n",
        "\n",
        "  s /= n - 1\n",
        "  np.sqrt(s, s)\n",
        "\n",
        "  if n < 2:\n",
        "    return mean, None\n",
        "  else:\n",
        "    return mean, s"
      ],
      "execution_count": 0,
      "outputs": []
    },
    {
      "cell_type": "code",
      "metadata": {
        "id": "PaXZ16C3JmSt",
        "colab_type": "code",
        "colab": {}
      },
      "source": [
        "def median_bins_fits(fits_files, B):    \n",
        "    mu, sd = running_stats(fits_files)  \n",
        "    fits_matrix = np.zeros((len(fits_files),200,200))\n",
        "    i = 0\n",
        "    for filename in fits_files:\n",
        "      hdulist = fits.open(filename)      \n",
        "      fits_matrix[i] = hdulist[0].data\n",
        "      i += 1    \n",
        "    less_than_minval = np.sum(fits_matrix < ( mu - sd),axis = 0)    \n",
        "    xmin = mu - sd\n",
        "    xmax = mu + sd\n",
        "    l = np.repeat(B+1,200*200)\n",
        "    l = l.reshape((200,200))\n",
        "    #print(np.linspace(xmin[:,0],xmax[:,0],B+1))\n",
        "    linspace_array = np.zeros((200,200,B+1),dtype=float)\n",
        "    for  i in np.arange(0,xmin.shape[0]) :\n",
        "      for  j in np.arange(0,xmin.shape[1]) :\n",
        "        linspace_array[i][j] = np.linspace(xmin[i][j],xmax[i][j],B+1)   \n",
        "    print(fits_matrix[0].shape)\n",
        "    print(xmin.shape)\n",
        "    print(linspace_array.shape)\n",
        "\n",
        "    # for  i in np.arange(0,xmin.shape[0]) :\n",
        "    #   for  j in np.arange(0,xmin.shape[1]) :\n",
        "    #     linspace_array[i][j] = np.linspace(xmin[i][j],xmax[i][j],B+1)   \n",
        "    print(fits_matrix[(fits_matrix >= xmin) & (fits_matrix < xmax)].shape)\n",
        "\n",
        "    # np.histogram(fits_matrix[0][(fits_matrix[0] >= xmin) & (fits_matrix[0] < xmax)], linspace_array[0][0][:]  )\n",
        "    #bin_counts = np.histogram(fits_matrix[(fits_matrix >= xmin) & (fits_matrix < xmax)], linspace_array  )[0]\n",
        "    #return(mu, sd, less_than_minval, np.asmatrix((bin_counts)))\n",
        "    \n"
      ],
      "execution_count": 0,
      "outputs": []
    },
    {
      "cell_type": "code",
      "metadata": {
        "id": "zFfSGvjsJ1ev",
        "colab_type": "code",
        "colab": {
          "base_uri": "https://localhost:8080/",
          "height": 283
        },
        "outputId": "4c8ebc21-4971-4d6b-f801-8796df2114d9"
      },
      "source": [
        "# You can use this to test your function.\n",
        "# Any code inside this `if` statement will be ignored by the automarker.\n",
        "if __name__ == '__main__':\n",
        "  # Run your function with examples from the question.\n",
        "  mean, std, left_bin, bins = median_bins_fits(['sample_data/image0.fits', 'sample_data/image1.fits', 'sample_data/image2.fits'], 5)\n",
        "  #median = median_approx_fits(['image0.fits', 'image1.fits', 'image2.fits'], 5)\n"
      ],
      "execution_count": 42,
      "outputs": [
        {
          "output_type": "stream",
          "text": [
            "(200, 200)\n",
            "(200, 200)\n",
            "(200, 200, 6)\n",
            "(79966,)\n"
          ],
          "name": "stdout"
        },
        {
          "output_type": "error",
          "ename": "TypeError",
          "evalue": "ignored",
          "traceback": [
            "\u001b[0;31m---------------------------------------------------------------------------\u001b[0m",
            "\u001b[0;31mTypeError\u001b[0m                                 Traceback (most recent call last)",
            "\u001b[0;32m<ipython-input-42-88f133d08870>\u001b[0m in \u001b[0;36m<module>\u001b[0;34m()\u001b[0m\n\u001b[1;32m      1\u001b[0m \u001b[0;32mif\u001b[0m \u001b[0m__name__\u001b[0m \u001b[0;34m==\u001b[0m \u001b[0;34m'__main__'\u001b[0m\u001b[0;34m:\u001b[0m\u001b[0;34m\u001b[0m\u001b[0;34m\u001b[0m\u001b[0m\n\u001b[1;32m      2\u001b[0m   \u001b[0;31m# Run your function with examples from the question.\u001b[0m\u001b[0;34m\u001b[0m\u001b[0;34m\u001b[0m\u001b[0;34m\u001b[0m\u001b[0m\n\u001b[0;32m----> 3\u001b[0;31m   \u001b[0mmean\u001b[0m\u001b[0;34m,\u001b[0m \u001b[0mstd\u001b[0m\u001b[0;34m,\u001b[0m \u001b[0mleft_bin\u001b[0m\u001b[0;34m,\u001b[0m \u001b[0mbins\u001b[0m \u001b[0;34m=\u001b[0m \u001b[0mmedian_bins_fits\u001b[0m\u001b[0;34m(\u001b[0m\u001b[0;34m[\u001b[0m\u001b[0;34m'sample_data/image0.fits'\u001b[0m\u001b[0;34m,\u001b[0m \u001b[0;34m'sample_data/image1.fits'\u001b[0m\u001b[0;34m,\u001b[0m \u001b[0;34m'sample_data/image2.fits'\u001b[0m\u001b[0;34m]\u001b[0m\u001b[0;34m,\u001b[0m \u001b[0;36m5\u001b[0m\u001b[0;34m)\u001b[0m\u001b[0;34m\u001b[0m\u001b[0;34m\u001b[0m\u001b[0m\n\u001b[0m\u001b[1;32m      4\u001b[0m   \u001b[0;31m#median = median_approx_fits(['image0.fits', 'image1.fits', 'image2.fits'], 5)\u001b[0m\u001b[0;34m\u001b[0m\u001b[0;34m\u001b[0m\u001b[0;34m\u001b[0m\u001b[0m\n",
            "\u001b[0;31mTypeError\u001b[0m: 'NoneType' object is not iterable"
          ]
        }
      ]
    },
    {
      "cell_type": "code",
      "metadata": {
        "id": "-xK9yzBIJ5iM",
        "colab_type": "code",
        "colab": {}
      },
      "source": [
        ""
      ],
      "execution_count": 0,
      "outputs": []
    }
  ]
}